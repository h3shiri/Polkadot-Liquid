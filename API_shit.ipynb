{
 "cells": [
  {
   "cell_type": "code",
   "execution_count": 15,
   "id": "4910cfe2",
   "metadata": {},
   "outputs": [],
   "source": [
    "import substrateinterface as sp"
   ]
  },
  {
   "cell_type": "code",
   "execution_count": 14,
   "id": "ee2c9bb6",
   "metadata": {},
   "outputs": [],
   "source": [
    "import os\n",
    "\n",
    "os.environ[\"GIT_PYTHON_REFRESH\"] = \"quiet\""
   ]
  },
  {
   "cell_type": "code",
   "execution_count": 19,
   "id": "5ab93189",
   "metadata": {},
   "outputs": [
    {
     "name": "stdout",
     "output_type": "stream",
     "text": [
      "Current block number: 0x26ebfce3548e213f585ce1adceb5952f6474efc3eba963347efc49809c0bef34\n"
     ]
    },
    {
     "ename": "SubstrateRequestException",
     "evalue": "{'code': 3001, 'message': '`Hex(17604842675279029079431286328366357896158742360319001322224235929165240201012)` > u32::MAX, the max block number is u32.'}",
     "output_type": "error",
     "traceback": [
      "\u001b[1;31m---------------------------------------------------------------------------\u001b[0m",
      "\u001b[1;31mSubstrateRequestException\u001b[0m                 Traceback (most recent call last)",
      "\u001b[1;32m~\\AppData\\Local\\Temp\\ipykernel_3076\\2930501378.py\u001b[0m in \u001b[0;36m<module>\u001b[1;34m\u001b[0m\n\u001b[0;32m     11\u001b[0m \u001b[1;33m\u001b[0m\u001b[0m\n\u001b[0;32m     12\u001b[0m \u001b[1;31m# Get the last block hash\u001b[0m\u001b[1;33m\u001b[0m\u001b[1;33m\u001b[0m\u001b[0m\n\u001b[1;32m---> 13\u001b[1;33m \u001b[0mlast_block_hash\u001b[0m \u001b[1;33m=\u001b[0m \u001b[0msubstrate\u001b[0m\u001b[1;33m.\u001b[0m\u001b[0mget_block_hash\u001b[0m\u001b[1;33m(\u001b[0m\u001b[0mblock_number\u001b[0m\u001b[1;33m)\u001b[0m\u001b[1;33m\u001b[0m\u001b[1;33m\u001b[0m\u001b[0m\n\u001b[0m\u001b[0;32m     14\u001b[0m \u001b[0mprint\u001b[0m\u001b[1;33m(\u001b[0m\u001b[1;34mf\"Last block hash: {last_block_hash}\"\u001b[0m\u001b[1;33m)\u001b[0m\u001b[1;33m\u001b[0m\u001b[1;33m\u001b[0m\u001b[0m\n",
      "\u001b[1;32m~\\AppData\\Roaming\\Python\\Python39\\site-packages\\substrateinterface\\base.py\u001b[0m in \u001b[0;36mget_block_hash\u001b[1;34m(self, block_id)\u001b[0m\n\u001b[0;32m    471\u001b[0m \u001b[1;33m\u001b[0m\u001b[0m\n\u001b[0;32m    472\u001b[0m         \"\"\"\n\u001b[1;32m--> 473\u001b[1;33m         \u001b[0mresponse\u001b[0m \u001b[1;33m=\u001b[0m \u001b[0mself\u001b[0m\u001b[1;33m.\u001b[0m\u001b[0mrpc_request\u001b[0m\u001b[1;33m(\u001b[0m\u001b[1;34m\"chain_getBlockHash\"\u001b[0m\u001b[1;33m,\u001b[0m \u001b[1;33m[\u001b[0m\u001b[0mblock_id\u001b[0m\u001b[1;33m]\u001b[0m\u001b[1;33m)\u001b[0m\u001b[1;33m\u001b[0m\u001b[1;33m\u001b[0m\u001b[0m\n\u001b[0m\u001b[0;32m    474\u001b[0m \u001b[1;33m\u001b[0m\u001b[0m\n\u001b[0;32m    475\u001b[0m         \u001b[1;32mif\u001b[0m \u001b[1;34m'error'\u001b[0m \u001b[1;32min\u001b[0m \u001b[0mresponse\u001b[0m\u001b[1;33m:\u001b[0m\u001b[1;33m\u001b[0m\u001b[1;33m\u001b[0m\u001b[0m\n",
      "\u001b[1;32m~\\AppData\\Roaming\\Python\\Python39\\site-packages\\substrateinterface\\base.py\u001b[0m in \u001b[0;36mrpc_request\u001b[1;34m(self, method, params, result_handler)\u001b[0m\n\u001b[0;32m    291\u001b[0m                         \u001b[1;31m# Check if response has error\u001b[0m\u001b[1;33m\u001b[0m\u001b[1;33m\u001b[0m\u001b[0m\n\u001b[0;32m    292\u001b[0m                         \u001b[1;32mif\u001b[0m \u001b[1;34m'error'\u001b[0m \u001b[1;32min\u001b[0m \u001b[0mmessage\u001b[0m\u001b[1;33m:\u001b[0m\u001b[1;33m\u001b[0m\u001b[1;33m\u001b[0m\u001b[0m\n\u001b[1;32m--> 293\u001b[1;33m                             \u001b[1;32mraise\u001b[0m \u001b[0mSubstrateRequestException\u001b[0m\u001b[1;33m(\u001b[0m\u001b[0mmessage\u001b[0m\u001b[1;33m[\u001b[0m\u001b[1;34m'error'\u001b[0m\u001b[1;33m]\u001b[0m\u001b[1;33m)\u001b[0m\u001b[1;33m\u001b[0m\u001b[1;33m\u001b[0m\u001b[0m\n\u001b[0m\u001b[0;32m    294\u001b[0m \u001b[1;33m\u001b[0m\u001b[0m\n\u001b[0;32m    295\u001b[0m                         \u001b[1;31m# If result handler is set, pass result through and loop until handler return value is set\u001b[0m\u001b[1;33m\u001b[0m\u001b[1;33m\u001b[0m\u001b[0m\n",
      "\u001b[1;31mSubstrateRequestException\u001b[0m: {'code': 3001, 'message': '`Hex(17604842675279029079431286328366357896158742360319001322224235929165240201012)` > u32::MAX, the max block number is u32.'}"
     ]
    }
   ],
   "source": [
    "\n",
    "\n",
    "# Connect to a Polkadot node\n",
    "substrate = sp.SubstrateInterface(\n",
    "    url=\"wss://rpc.polkadot.io\",\n",
    "    ss58_format=0,  # This is the default for Polkadot addresses\n",
    "    type_registry_preset=\"polkadot\"\n",
    ")\n",
    "\n",
    "# Get the current block number\n",
    "block_number = substrate.get_chain_head()\n",
    "print(f\"Current block number: {block_number}\")\n",
    "\n",
    "# Get the last block hash\n",
    "last_block_hash = substrate.get_block_hash(block_number)\n",
    "print(f\"Last block hash: {last_block_hash}\")"
   ]
  },
  {
   "cell_type": "code",
   "execution_count": null,
   "id": "5f0cc213",
   "metadata": {},
   "outputs": [],
   "source": []
  },
  {
   "cell_type": "code",
   "execution_count": null,
   "id": "6eabf001",
   "metadata": {},
   "outputs": [],
   "source": []
  }
 ],
 "metadata": {
  "kernelspec": {
   "display_name": "Python 3 (ipykernel)",
   "language": "python",
   "name": "python3"
  },
  "language_info": {
   "codemirror_mode": {
    "name": "ipython",
    "version": 3
   },
   "file_extension": ".py",
   "mimetype": "text/x-python",
   "name": "python",
   "nbconvert_exporter": "python",
   "pygments_lexer": "ipython3",
   "version": "3.9.13"
  }
 },
 "nbformat": 4,
 "nbformat_minor": 5
}
